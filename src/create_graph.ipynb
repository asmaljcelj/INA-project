{
 "cells": [
  {
   "cell_type": "markdown",
   "source": [
    "# Notebook to create graph of players and teams\n",
    "\n",
    "The resulting graph is a bipartite graph with players on one side and teams on the other.\n",
    "Teams are additionally separated by season, meaning that every team node also has the season attached to it."
   ],
   "metadata": {
    "collapsed": false
   }
  },
  {
   "cell_type": "markdown",
   "source": [
    "Importing all relevant libraries"
   ],
   "metadata": {
    "collapsed": false
   }
  },
  {
   "cell_type": "code",
   "execution_count": 41,
   "metadata": {
    "collapsed": true,
    "ExecuteTime": {
     "start_time": "2023-05-24T00:42:51.669213Z",
     "end_time": "2023-05-24T00:42:51.723096Z"
    }
   },
   "outputs": [],
   "source": [
    "import csv\n",
    "import networkx as nx\n",
    "import numpy as np"
   ]
  },
  {
   "cell_type": "markdown",
   "source": [
    "Define csv file path"
   ],
   "metadata": {
    "collapsed": false
   }
  },
  {
   "cell_type": "code",
   "execution_count": 42,
   "outputs": [],
   "source": [
    "filepath = '../data/NBA Player Stats(1950 - 2022).csv'"
   ],
   "metadata": {
    "collapsed": false,
    "ExecuteTime": {
     "start_time": "2023-05-24T00:42:51.687298Z",
     "end_time": "2023-05-24T00:42:51.724121Z"
    }
   }
  },
  {
   "cell_type": "markdown",
   "source": [
    "Create a graph"
   ],
   "metadata": {
    "collapsed": false
   }
  },
  {
   "cell_type": "code",
   "execution_count": 43,
   "outputs": [],
   "source": [
    "graph = nx.DiGraph()"
   ],
   "metadata": {
    "collapsed": false,
    "ExecuteTime": {
     "start_time": "2023-05-24T00:42:51.715583Z",
     "end_time": "2023-05-24T00:42:51.740440Z"
    }
   }
  },
  {
   "cell_type": "markdown",
   "source": [
    "Read csv and add players and teams to it"
   ],
   "metadata": {
    "collapsed": false
   }
  },
  {
   "cell_type": "code",
   "execution_count": 44,
   "outputs": [],
   "source": [
    "with open(filepath, 'r', encoding=\"utf8\") as file:\n",
    "    csvreader = csv.reader(file)\n",
    "    next(csvreader)\n",
    "    for row in csvreader:\n",
    "        year = row[2]\n",
    "        name = row[3]\n",
    "        team = row[6]\n",
    "        if row[7] != '':\n",
    "            games_played = float(row[7])\n",
    "        if row[31] != '':\n",
    "            total_points = float(row[31])\n",
    "        points_per_game = total_points\n",
    "        if games_played != 0:\n",
    "            points_per_game = round(points_per_game / games_played, 2)\n",
    "        if team == 'TOT':\n",
    "            # ignore TOT, meaning player played for multiple teams in the same season\n",
    "            continue\n",
    "        # handle rebrands\n",
    "        if team == 'SEA':\n",
    "            team = 'OKC'\n",
    "        team_node_name = team + \"-\" + year\n",
    "        # if not graph.has_node(team):\n",
    "        #     graph.add_node(team, type='team')\n",
    "        if not graph.has_node(team_node_name):\n",
    "            graph.add_node(team_node_name, type='team-season')\n",
    "        if not graph.has_node(name):\n",
    "            graph.add_node(name, type='player')\n",
    "        # graph.add_edge(team_node_name, team)\n",
    "        graph.add_edge(name, team_node_name, ppg=str(points_per_game))"
   ],
   "metadata": {
    "collapsed": false,
    "ExecuteTime": {
     "start_time": "2023-05-24T00:42:51.736399Z",
     "end_time": "2023-05-24T00:42:52.108610Z"
    }
   }
  },
  {
   "cell_type": "markdown",
   "source": [
    "Mark nodes that represent star players"
   ],
   "metadata": {
    "collapsed": false
   }
  },
  {
   "cell_type": "code",
   "execution_count": 45,
   "outputs": [
    {
     "name": "stdout",
     "output_type": "stream",
     "text": [
      "threshold for star player: 17.427999999999994\n",
      "found 135 star players\n"
     ]
    }
   ],
   "source": [
    "# calculate average points per game for entire career from a player\n",
    "ppgs = {}\n",
    "for (p, d) in graph.nodes(data=True):\n",
    "    if d['type'] == 'player':\n",
    "        sum = 0\n",
    "        seasons = 0\n",
    "        for (u, v, attr) in graph.edges(p, data=True):\n",
    "            sum = sum + float(attr['ppg'])\n",
    "            seasons = seasons + 1\n",
    "        average = round(sum / seasons, 2)\n",
    "        ppgs[p] = average\n",
    "desired_percentile = 97\n",
    "threshold = np.percentile(list(ppgs.values()), desired_percentile)\n",
    "print('threshold for star player:', threshold)\n",
    "star_players = {k: v for k, v in ppgs.items() if v > threshold}\n",
    "print('found', len(star_players), 'star players')"
   ],
   "metadata": {
    "collapsed": false,
    "ExecuteTime": {
     "start_time": "2023-05-24T00:42:52.214561Z",
     "end_time": "2023-05-24T00:42:52.232204Z"
    }
   }
  },
  {
   "cell_type": "markdown",
   "source": [
    "Mark players as star players in the graph"
   ],
   "metadata": {
    "collapsed": false
   }
  },
  {
   "cell_type": "code",
   "execution_count": 46,
   "outputs": [],
   "source": [
    "for node in graph.nodes():\n",
    "    if graph.nodes[node]['type'] == 'player':\n",
    "        graph.nodes[node]['star_player'] = str(node in star_players)"
   ],
   "metadata": {
    "collapsed": false,
    "ExecuteTime": {
     "start_time": "2023-05-24T00:42:52.257733Z",
     "end_time": "2023-05-24T00:42:52.274419Z"
    }
   }
  },
  {
   "cell_type": "markdown",
   "source": [
    "Display network info and save the file"
   ],
   "metadata": {
    "collapsed": false
   }
  },
  {
   "cell_type": "code",
   "execution_count": 47,
   "outputs": [
    {
     "name": "stdout",
     "output_type": "stream",
     "text": [
      "Graph with 6059 nodes and 25732 edges\n",
      "players = 4486\n",
      "teams = 0\n",
      "seasons = 1573\n"
     ]
    }
   ],
   "source": [
    "print(graph)\n",
    "player_nodes = []\n",
    "team_nodes = []\n",
    "season_nodes = []\n",
    "for (p, d) in graph.nodes(data=True):\n",
    "    if d['type'] == 'player':\n",
    "        player_nodes.append(p)\n",
    "    # elif d['type'] == 'team':\n",
    "    #     team_nodes.append(p)\n",
    "    elif d['type'] == 'team-season':\n",
    "        season_nodes.append(p)\n",
    "print('players =', len(player_nodes))\n",
    "print('teams =', len(team_nodes))\n",
    "print('seasons =', len(season_nodes))\n",
    "nx.write_pajek(graph, '../data/graph.net', encoding='utf-8')"
   ],
   "metadata": {
    "collapsed": false,
    "ExecuteTime": {
     "start_time": "2023-05-24T00:42:52.276420Z",
     "end_time": "2023-05-24T00:42:52.596554Z"
    }
   }
  }
 ],
 "metadata": {
  "kernelspec": {
   "display_name": "Python 3",
   "language": "python",
   "name": "python3"
  },
  "language_info": {
   "codemirror_mode": {
    "name": "ipython",
    "version": 2
   },
   "file_extension": ".py",
   "mimetype": "text/x-python",
   "name": "python",
   "nbconvert_exporter": "python",
   "pygments_lexer": "ipython2",
   "version": "2.7.6"
  }
 },
 "nbformat": 4,
 "nbformat_minor": 0
}

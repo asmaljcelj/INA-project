{
 "cells": [
  {
   "cell_type": "markdown",
   "source": [
    "# Notebook to create graph of players and teams\n",
    "\n",
    "The resulting graph is a bipartite graph with players on one side and teams on the other.\n",
    "Teams are additionally separated by season, meaning that every team node also has the season attached to it."
   ],
   "metadata": {
    "collapsed": false
   }
  },
  {
   "cell_type": "markdown",
   "source": [
    "Importing all relevant libraries"
   ],
   "metadata": {
    "collapsed": false
   }
  },
  {
   "cell_type": "code",
   "execution_count": 50,
   "metadata": {
    "collapsed": true,
    "ExecuteTime": {
     "start_time": "2023-05-25T20:59:36.006941Z",
     "end_time": "2023-05-25T20:59:36.133899Z"
    }
   },
   "outputs": [],
   "source": [
    "import csv\n",
    "import networkx as nx\n",
    "import numpy as np"
   ]
  },
  {
   "cell_type": "markdown",
   "source": [
    "Define csv file path"
   ],
   "metadata": {
    "collapsed": false
   }
  },
  {
   "cell_type": "code",
   "execution_count": 51,
   "outputs": [],
   "source": [
    "filepath = '../data/NBA Player Stats(1950 - 2022).csv'"
   ],
   "metadata": {
    "collapsed": false,
    "ExecuteTime": {
     "start_time": "2023-05-25T20:59:36.027868Z",
     "end_time": "2023-05-25T20:59:36.135893Z"
    }
   }
  },
  {
   "cell_type": "markdown",
   "source": [
    "Create a graph"
   ],
   "metadata": {
    "collapsed": false
   }
  },
  {
   "cell_type": "code",
   "execution_count": 52,
   "outputs": [],
   "source": [
    "graph = nx.Graph()"
   ],
   "metadata": {
    "collapsed": false,
    "ExecuteTime": {
     "start_time": "2023-05-25T20:59:36.075077Z",
     "end_time": "2023-05-25T20:59:36.136889Z"
    }
   }
  },
  {
   "cell_type": "markdown",
   "source": [
    "Read csv and add players and teams to it"
   ],
   "metadata": {
    "collapsed": false
   }
  },
  {
   "cell_type": "code",
   "execution_count": 53,
   "outputs": [],
   "source": [
    "with open(filepath, 'r', encoding=\"utf8\") as file:\n",
    "    csvreader = csv.reader(file)\n",
    "    next(csvreader)\n",
    "    for row in csvreader:\n",
    "        year = row[2]\n",
    "        name = row[3]\n",
    "        team = row[6]\n",
    "        if row[7] != '':\n",
    "            games_played = float(row[7])\n",
    "        if row[31] != '':\n",
    "            total_points = float(row[31])\n",
    "        points_per_game = total_points\n",
    "        if games_played != 0:\n",
    "            points_per_game = round(points_per_game / games_played, 2)\n",
    "        if team == 'TOT':\n",
    "            # ignore TOT, meaning player played for multiple teams in the same season\n",
    "            continue\n",
    "        # handle rebrands\n",
    "        if team == 'TRI' or team == 'MLH' or team == 'STL':\n",
    "            team = 'ATL'\n",
    "        if team == 'NYN' or team == 'NJN':\n",
    "            team = 'BRK'\n",
    "        if team == 'CHH' or team == 'CHA':\n",
    "            team = 'CHO'\n",
    "        if team == 'FTW':\n",
    "            team = 'DET'\n",
    "        if team == 'SFW' or team == 'PHW':\n",
    "            team = 'GSW'\n",
    "        if team == 'SDR':\n",
    "            team = 'HOU'\n",
    "        if team == 'SDC' or team == 'BUF':\n",
    "            team = 'LAC'\n",
    "        if team == 'MNL':\n",
    "            team = 'LAL'\n",
    "        if team == 'VAN':\n",
    "            team = 'MEM'\n",
    "        if team == 'NOH' or team == 'NOK':\n",
    "            team = 'NOP'\n",
    "        if team == 'SEA':\n",
    "            team = 'OKC'\n",
    "        if team == 'SYR':\n",
    "            team = 'PHI'\n",
    "        if team == 'KCK' or team == 'CIN' or team == 'KCO' or team == 'ROC':\n",
    "            team = 'SAC'\n",
    "        if team == 'NOJ':\n",
    "            team = 'UTA'\n",
    "        if team == 'WSB' or team == 'CAP' or team == 'BAL' or team == 'CHZ' or team == 'CHP':\n",
    "            team = 'WAS'\n",
    "\n",
    "        team_node_name = team + \"-\" + year\n",
    "        if not graph.has_node(team):\n",
    "            graph.add_node(team, type='team')\n",
    "        if not graph.has_node(team_node_name):\n",
    "            graph.add_node(team_node_name, type='team-season')\n",
    "        if not graph.has_node(name):\n",
    "            graph.add_node(name, type='player')\n",
    "        graph.add_edge(team_node_name, team, ppg=str(0))\n",
    "        graph.add_edge(name, team_node_name, ppg=str(points_per_game))"
   ],
   "metadata": {
    "collapsed": false,
    "ExecuteTime": {
     "start_time": "2023-05-25T20:59:36.103084Z",
     "end_time": "2023-05-25T20:59:36.630219Z"
    }
   }
  },
  {
   "cell_type": "markdown",
   "source": [
    "Mark nodes that represent star players"
   ],
   "metadata": {
    "collapsed": false
   }
  },
  {
   "cell_type": "code",
   "execution_count": 54,
   "outputs": [
    {
     "name": "stdout",
     "output_type": "stream",
     "text": [
      "threshold for star player: 21.061499999999924\n",
      "found 45 star players\n"
     ]
    }
   ],
   "source": [
    "# calculate average points per game for entire career from a player\n",
    "ppgs = {}\n",
    "for (p, d) in graph.nodes(data=True):\n",
    "    if d['type'] == 'player':\n",
    "        sum = 0\n",
    "        seasons = 0\n",
    "        for (u, v, attr) in graph.edges(p, data=True):\n",
    "            sum = sum + float(attr['ppg'])\n",
    "            seasons = seasons + 1\n",
    "        average = round(sum / seasons, 2)\n",
    "        ppgs[p] = average\n",
    "desired_percentile = 99\n",
    "threshold = np.percentile(list(ppgs.values()), desired_percentile)\n",
    "print('threshold for star player:', threshold)\n",
    "star_players = {k: v for k, v in ppgs.items() if v > threshold}\n",
    "print('found', len(star_players), 'star players')"
   ],
   "metadata": {
    "collapsed": false,
    "ExecuteTime": {
     "start_time": "2023-05-25T20:59:36.676858Z",
     "end_time": "2023-05-25T20:59:36.701018Z"
    }
   }
  },
  {
   "cell_type": "markdown",
   "source": [
    "Mark players as star players in the graph"
   ],
   "metadata": {
    "collapsed": false
   }
  },
  {
   "cell_type": "code",
   "execution_count": 55,
   "outputs": [],
   "source": [
    "for node in graph.nodes():\n",
    "    if graph.nodes[node]['type'] == 'player':\n",
    "        graph.nodes[node]['star_player'] = str(node in star_players)"
   ],
   "metadata": {
    "collapsed": false,
    "ExecuteTime": {
     "start_time": "2023-05-25T20:59:36.709092Z",
     "end_time": "2023-05-25T20:59:36.767732Z"
    }
   }
  },
  {
   "cell_type": "markdown",
   "source": [
    "Display network info and save the file"
   ],
   "metadata": {
    "collapsed": false
   }
  },
  {
   "cell_type": "code",
   "execution_count": 56,
   "outputs": [
    {
     "name": "stdout",
     "output_type": "stream",
     "text": [
      "Graph with 6098 nodes and 27305 edges\n",
      "players = 4486\n",
      "teams = 39\n",
      "seasons = 1573\n"
     ]
    }
   ],
   "source": [
    "print(graph)\n",
    "player_nodes = []\n",
    "team_nodes = []\n",
    "season_nodes = []\n",
    "for (p, d) in graph.nodes(data=True):\n",
    "    if d['type'] == 'player':\n",
    "        player_nodes.append(p)\n",
    "    elif d['type'] == 'team':\n",
    "        team_nodes.append(p)\n",
    "    elif d['type'] == 'team-season':\n",
    "        season_nodes.append(p)\n",
    "print('players =', len(player_nodes))\n",
    "print('teams =', len(team_nodes))\n",
    "print('seasons =', len(season_nodes))\n",
    "nx.write_pajek(graph, '../data/graph.net', encoding='utf-8')"
   ],
   "metadata": {
    "collapsed": false,
    "ExecuteTime": {
     "start_time": "2023-05-25T20:59:36.741919Z",
     "end_time": "2023-05-25T20:59:36.930558Z"
    }
   }
  }
 ],
 "metadata": {
  "kernelspec": {
   "display_name": "Python 3",
   "language": "python",
   "name": "python3"
  },
  "language_info": {
   "codemirror_mode": {
    "name": "ipython",
    "version": 2
   },
   "file_extension": ".py",
   "mimetype": "text/x-python",
   "name": "python",
   "nbconvert_exporter": "python",
   "pygments_lexer": "ipython2",
   "version": "2.7.6"
  }
 },
 "nbformat": 4,
 "nbformat_minor": 0
}

{
 "cells": [
  {
   "cell_type": "markdown",
   "source": [
    "# Notebook to create graph of players and teams\n",
    "\n",
    "The resulting graph is a bipartite graph with players on one side and teams on the other.\n",
    "Teams are additionally separated by season, meaning that every team node also has the season attached to it."
   ],
   "metadata": {
    "collapsed": false
   }
  },
  {
   "cell_type": "markdown",
   "source": [
    "Importing all relevant libraries"
   ],
   "metadata": {
    "collapsed": false
   }
  },
  {
   "cell_type": "code",
   "execution_count": 104,
   "metadata": {
    "collapsed": true,
    "ExecuteTime": {
     "start_time": "2023-05-21T23:55:24.210327Z",
     "end_time": "2023-05-21T23:55:24.243631Z"
    }
   },
   "outputs": [],
   "source": [
    "import csv\n",
    "import networkx as nx"
   ]
  },
  {
   "cell_type": "markdown",
   "source": [
    "Define csv file path"
   ],
   "metadata": {
    "collapsed": false
   }
  },
  {
   "cell_type": "code",
   "execution_count": 105,
   "outputs": [],
   "source": [
    "filepath = '../data/NBA Player Stats(1950 - 2022).csv'"
   ],
   "metadata": {
    "collapsed": false,
    "ExecuteTime": {
     "start_time": "2023-05-21T23:55:24.217073Z",
     "end_time": "2023-05-21T23:55:24.288358Z"
    }
   }
  },
  {
   "cell_type": "markdown",
   "source": [
    "Create a graph"
   ],
   "metadata": {
    "collapsed": false
   }
  },
  {
   "cell_type": "code",
   "execution_count": 106,
   "outputs": [],
   "source": [
    "graph = nx.Graph()"
   ],
   "metadata": {
    "collapsed": false,
    "ExecuteTime": {
     "start_time": "2023-05-21T23:55:24.232092Z",
     "end_time": "2023-05-21T23:55:24.288358Z"
    }
   }
  },
  {
   "cell_type": "markdown",
   "source": [
    "Read csv and add players and teams to it"
   ],
   "metadata": {
    "collapsed": false
   }
  },
  {
   "cell_type": "code",
   "execution_count": 107,
   "outputs": [],
   "source": [
    "with open(filepath, 'r', encoding=\"utf8\") as file:\n",
    "    csvreader = csv.reader(file)\n",
    "    for row in csvreader:\n",
    "        year = row[2]\n",
    "        name = row[3]\n",
    "        team = row[6]\n",
    "        team_node_name = team + \"-\" + year\n",
    "        if not graph.has_node(team_node_name):\n",
    "            graph.add_node(team_node_name, type='team')\n",
    "        if not graph.has_node(name):\n",
    "            graph.add_node(name, type='player')\n",
    "        graph.add_edge(name, team_node_name)"
   ],
   "metadata": {
    "collapsed": false,
    "ExecuteTime": {
     "start_time": "2023-05-21T23:55:24.273201Z",
     "end_time": "2023-05-21T23:55:24.402871Z"
    }
   }
  },
  {
   "cell_type": "markdown",
   "source": [
    "Mark nodes that represent star players"
   ],
   "metadata": {
    "collapsed": false
   }
  },
  {
   "cell_type": "code",
   "execution_count": 108,
   "outputs": [],
   "source": [
    "star_players = ['LeBron James', 'Kevin Durant']\n",
    "# todo: dodaj preverjanje, kako oznaciti igralca kot star playerja"
   ],
   "metadata": {
    "collapsed": false,
    "ExecuteTime": {
     "start_time": "2023-05-21T23:55:24.404392Z",
     "end_time": "2023-05-21T23:55:24.417934Z"
    }
   }
  },
  {
   "cell_type": "markdown",
   "source": [
    "Create another graph that also holds information for start players"
   ],
   "metadata": {
    "collapsed": false
   }
  },
  {
   "cell_type": "code",
   "execution_count": 109,
   "outputs": [],
   "source": [
    "for node in graph.nodes():\n",
    "    graph.nodes[node]['star_player'] = str(node in star_players)"
   ],
   "metadata": {
    "collapsed": false,
    "ExecuteTime": {
     "start_time": "2023-05-21T23:55:24.427096Z",
     "end_time": "2023-05-21T23:55:24.436977Z"
    }
   }
  },
  {
   "cell_type": "markdown",
   "source": [
    "Display network info and save the file"
   ],
   "metadata": {
    "collapsed": false
   }
  },
  {
   "cell_type": "code",
   "execution_count": 110,
   "outputs": [
    {
     "name": "stdout",
     "output_type": "stream",
     "text": [
      "Graph with 6134 nodes and 28237 edges\n",
      "players = 4487\n",
      "teams = 1647\n"
     ]
    }
   ],
   "source": [
    "print(graph)\n",
    "player_nodes = []\n",
    "team_nodes = []\n",
    "for (p, d) in graph.nodes(data=True):\n",
    "    if d['type'] == 'player':\n",
    "        player_nodes.append(p)\n",
    "    elif d['type'] == 'team':\n",
    "        team_nodes.append(p)\n",
    "print('players =', len(player_nodes))\n",
    "print('teams =', len(team_nodes))\n",
    "nx.write_pajek(graph, '../data/graph.net', encoding='utf-8')"
   ],
   "metadata": {
    "collapsed": false,
    "ExecuteTime": {
     "start_time": "2023-05-21T23:55:24.442869Z",
     "end_time": "2023-05-21T23:55:24.544592Z"
    }
   }
  }
 ],
 "metadata": {
  "kernelspec": {
   "display_name": "Python 3",
   "language": "python",
   "name": "python3"
  },
  "language_info": {
   "codemirror_mode": {
    "name": "ipython",
    "version": 2
   },
   "file_extension": ".py",
   "mimetype": "text/x-python",
   "name": "python",
   "nbconvert_exporter": "python",
   "pygments_lexer": "ipython2",
   "version": "2.7.6"
  }
 },
 "nbformat": 4,
 "nbformat_minor": 0
}
